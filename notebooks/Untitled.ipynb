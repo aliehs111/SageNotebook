{
 "cells": [
  {
   "cell_type": "code",
   "execution_count": 1,
   "id": "c8ca9a4c-8685-4652-b6aa-bbd4c77c3d2a",
   "metadata": {},
   "outputs": [
    {
     "name": "stdout",
     "output_type": "stream",
     "text": [
      "Installing dependencies from: /Users/sheilamcgovern/Desktop/Projects2025/SageNotebook\n",
      "Requirement already satisfied: transformers in /Users/sheilamcgovern/anaconda3/envs/nlp-dev/lib/python3.11/site-packages (from -r requirements.txt (line 1)) (4.53.0)\n",
      "Requirement already satisfied: torch in /Users/sheilamcgovern/anaconda3/envs/nlp-dev/lib/python3.11/site-packages (from -r requirements.txt (line 2)) (2.7.0)\n",
      "Requirement already satisfied: scikit-learn in /Users/sheilamcgovern/anaconda3/envs/nlp-dev/lib/python3.11/site-packages (from -r requirements.txt (line 3)) (1.7.0)\n",
      "Requirement already satisfied: pandas in /Users/sheilamcgovern/anaconda3/envs/nlp-dev/lib/python3.11/site-packages (from -r requirements.txt (line 4)) (2.3.0)\n",
      "Requirement already satisfied: boto3 in /Users/sheilamcgovern/anaconda3/envs/nlp-dev/lib/python3.11/site-packages (from -r requirements.txt (line 5)) (1.39.14)\n",
      "Requirement already satisfied: python-dotenv in /Users/sheilamcgovern/anaconda3/envs/nlp-dev/lib/python3.11/site-packages (from -r requirements.txt (line 6)) (1.1.1)\n",
      "Requirement already satisfied: sagemaker>=2.132.0 in /Users/sheilamcgovern/anaconda3/envs/nlp-dev/lib/python3.11/site-packages (from -r requirements.txt (line 7)) (2.248.2)\n",
      "Requirement already satisfied: filelock in /Users/sheilamcgovern/anaconda3/envs/nlp-dev/lib/python3.11/site-packages (from transformers->-r requirements.txt (line 1)) (3.18.0)\n",
      "Requirement already satisfied: huggingface-hub<1.0,>=0.30.0 in /Users/sheilamcgovern/anaconda3/envs/nlp-dev/lib/python3.11/site-packages (from transformers->-r requirements.txt (line 1)) (0.31.4)\n",
      "Requirement already satisfied: numpy>=1.17 in /Users/sheilamcgovern/anaconda3/envs/nlp-dev/lib/python3.11/site-packages (from transformers->-r requirements.txt (line 1)) (1.26.4)\n",
      "Requirement already satisfied: packaging>=20.0 in /Users/sheilamcgovern/anaconda3/envs/nlp-dev/lib/python3.11/site-packages (from transformers->-r requirements.txt (line 1)) (24.2)\n",
      "Requirement already satisfied: pyyaml>=5.1 in /Users/sheilamcgovern/anaconda3/envs/nlp-dev/lib/python3.11/site-packages (from transformers->-r requirements.txt (line 1)) (6.0.2)\n",
      "Requirement already satisfied: regex!=2019.12.17 in /Users/sheilamcgovern/anaconda3/envs/nlp-dev/lib/python3.11/site-packages (from transformers->-r requirements.txt (line 1)) (2024.11.6)\n",
      "Requirement already satisfied: requests in /Users/sheilamcgovern/anaconda3/envs/nlp-dev/lib/python3.11/site-packages (from transformers->-r requirements.txt (line 1)) (2.32.4)\n",
      "Requirement already satisfied: tokenizers<0.22,>=0.21 in /Users/sheilamcgovern/anaconda3/envs/nlp-dev/lib/python3.11/site-packages (from transformers->-r requirements.txt (line 1)) (0.21.1)\n",
      "Requirement already satisfied: safetensors>=0.4.3 in /Users/sheilamcgovern/anaconda3/envs/nlp-dev/lib/python3.11/site-packages (from transformers->-r requirements.txt (line 1)) (0.5.3)\n",
      "Requirement already satisfied: tqdm>=4.27 in /Users/sheilamcgovern/anaconda3/envs/nlp-dev/lib/python3.11/site-packages (from transformers->-r requirements.txt (line 1)) (4.67.1)\n",
      "Requirement already satisfied: fsspec>=2023.5.0 in /Users/sheilamcgovern/anaconda3/envs/nlp-dev/lib/python3.11/site-packages (from huggingface-hub<1.0,>=0.30.0->transformers->-r requirements.txt (line 1)) (2025.3.0)\n",
      "Requirement already satisfied: typing-extensions>=3.7.4.3 in /Users/sheilamcgovern/anaconda3/envs/nlp-dev/lib/python3.11/site-packages (from huggingface-hub<1.0,>=0.30.0->transformers->-r requirements.txt (line 1)) (4.14.0)\n",
      "Requirement already satisfied: sympy>=1.13.3 in /Users/sheilamcgovern/anaconda3/envs/nlp-dev/lib/python3.11/site-packages (from torch->-r requirements.txt (line 2)) (1.14.0)\n",
      "Requirement already satisfied: networkx in /Users/sheilamcgovern/anaconda3/envs/nlp-dev/lib/python3.11/site-packages (from torch->-r requirements.txt (line 2)) (3.5)\n",
      "Requirement already satisfied: jinja2 in /Users/sheilamcgovern/anaconda3/envs/nlp-dev/lib/python3.11/site-packages (from torch->-r requirements.txt (line 2)) (3.1.6)\n",
      "Requirement already satisfied: scipy>=1.8.0 in /Users/sheilamcgovern/anaconda3/envs/nlp-dev/lib/python3.11/site-packages (from scikit-learn->-r requirements.txt (line 3)) (1.15.2)\n",
      "Requirement already satisfied: joblib>=1.2.0 in /Users/sheilamcgovern/anaconda3/envs/nlp-dev/lib/python3.11/site-packages (from scikit-learn->-r requirements.txt (line 3)) (1.5.1)\n",
      "Requirement already satisfied: threadpoolctl>=3.1.0 in /Users/sheilamcgovern/anaconda3/envs/nlp-dev/lib/python3.11/site-packages (from scikit-learn->-r requirements.txt (line 3)) (3.6.0)\n",
      "Requirement already satisfied: python-dateutil>=2.8.2 in /Users/sheilamcgovern/anaconda3/envs/nlp-dev/lib/python3.11/site-packages (from pandas->-r requirements.txt (line 4)) (2.9.0.post0)\n",
      "Requirement already satisfied: pytz>=2020.1 in /Users/sheilamcgovern/anaconda3/envs/nlp-dev/lib/python3.11/site-packages (from pandas->-r requirements.txt (line 4)) (2025.2)\n",
      "Requirement already satisfied: tzdata>=2022.7 in /Users/sheilamcgovern/anaconda3/envs/nlp-dev/lib/python3.11/site-packages (from pandas->-r requirements.txt (line 4)) (2025.2)\n",
      "Requirement already satisfied: botocore<1.40.0,>=1.39.14 in /Users/sheilamcgovern/anaconda3/envs/nlp-dev/lib/python3.11/site-packages (from boto3->-r requirements.txt (line 5)) (1.39.14)\n",
      "Requirement already satisfied: jmespath<2.0.0,>=0.7.1 in /Users/sheilamcgovern/anaconda3/envs/nlp-dev/lib/python3.11/site-packages (from boto3->-r requirements.txt (line 5)) (1.0.1)\n",
      "Requirement already satisfied: s3transfer<0.14.0,>=0.13.0 in /Users/sheilamcgovern/anaconda3/envs/nlp-dev/lib/python3.11/site-packages (from boto3->-r requirements.txt (line 5)) (0.13.1)\n",
      "Requirement already satisfied: urllib3!=2.2.0,<3,>=1.25.4 in /Users/sheilamcgovern/anaconda3/envs/nlp-dev/lib/python3.11/site-packages (from botocore<1.40.0,>=1.39.14->boto3->-r requirements.txt (line 5)) (2.4.0)\n",
      "Requirement already satisfied: six>=1.5 in /Users/sheilamcgovern/anaconda3/envs/nlp-dev/lib/python3.11/site-packages (from python-dateutil>=2.8.2->pandas->-r requirements.txt (line 4)) (1.17.0)\n",
      "Requirement already satisfied: attrs<26,>=24 in /Users/sheilamcgovern/anaconda3/envs/nlp-dev/lib/python3.11/site-packages (from sagemaker>=2.132.0->-r requirements.txt (line 7)) (25.3.0)\n",
      "Requirement already satisfied: cloudpickle>=2.2.1 in /Users/sheilamcgovern/anaconda3/envs/nlp-dev/lib/python3.11/site-packages (from sagemaker>=2.132.0->-r requirements.txt (line 7)) (3.1.1)\n",
      "Requirement already satisfied: docker in /Users/sheilamcgovern/anaconda3/envs/nlp-dev/lib/python3.11/site-packages (from sagemaker>=2.132.0->-r requirements.txt (line 7)) (7.1.0)\n",
      "Requirement already satisfied: fastapi in /Users/sheilamcgovern/anaconda3/envs/nlp-dev/lib/python3.11/site-packages (from sagemaker>=2.132.0->-r requirements.txt (line 7)) (0.115.14)\n",
      "Requirement already satisfied: google-pasta in /Users/sheilamcgovern/anaconda3/envs/nlp-dev/lib/python3.11/site-packages (from sagemaker>=2.132.0->-r requirements.txt (line 7)) (0.2.0)\n",
      "Requirement already satisfied: graphene<4,>=3 in /Users/sheilamcgovern/anaconda3/envs/nlp-dev/lib/python3.11/site-packages (from sagemaker>=2.132.0->-r requirements.txt (line 7)) (3.4.3)\n",
      "Requirement already satisfied: importlib-metadata<7.0,>=1.4.0 in /Users/sheilamcgovern/anaconda3/envs/nlp-dev/lib/python3.11/site-packages (from sagemaker>=2.132.0->-r requirements.txt (line 7)) (6.11.0)\n",
      "Requirement already satisfied: jsonschema in /Users/sheilamcgovern/anaconda3/envs/nlp-dev/lib/python3.11/site-packages (from sagemaker>=2.132.0->-r requirements.txt (line 7)) (4.24.0)\n",
      "Requirement already satisfied: omegaconf<3,>=2.2 in /Users/sheilamcgovern/anaconda3/envs/nlp-dev/lib/python3.11/site-packages (from sagemaker>=2.132.0->-r requirements.txt (line 7)) (2.3.0)\n",
      "Requirement already satisfied: pathos in /Users/sheilamcgovern/anaconda3/envs/nlp-dev/lib/python3.11/site-packages (from sagemaker>=2.132.0->-r requirements.txt (line 7)) (0.3.4)\n",
      "Requirement already satisfied: platformdirs in /Users/sheilamcgovern/anaconda3/envs/nlp-dev/lib/python3.11/site-packages (from sagemaker>=2.132.0->-r requirements.txt (line 7)) (4.3.8)\n",
      "Requirement already satisfied: protobuf<6.32,>=3.12 in /Users/sheilamcgovern/anaconda3/envs/nlp-dev/lib/python3.11/site-packages (from sagemaker>=2.132.0->-r requirements.txt (line 7)) (5.29.5)\n",
      "Requirement already satisfied: psutil in /Users/sheilamcgovern/anaconda3/envs/nlp-dev/lib/python3.11/site-packages (from sagemaker>=2.132.0->-r requirements.txt (line 7)) (7.0.0)\n",
      "Requirement already satisfied: sagemaker-core<2.0.0,>=1.0.17 in /Users/sheilamcgovern/anaconda3/envs/nlp-dev/lib/python3.11/site-packages (from sagemaker>=2.132.0->-r requirements.txt (line 7)) (1.0.47)\n",
      "Requirement already satisfied: schema in /Users/sheilamcgovern/anaconda3/envs/nlp-dev/lib/python3.11/site-packages (from sagemaker>=2.132.0->-r requirements.txt (line 7)) (0.7.7)\n",
      "Requirement already satisfied: smdebug-rulesconfig==1.0.1 in /Users/sheilamcgovern/anaconda3/envs/nlp-dev/lib/python3.11/site-packages (from sagemaker>=2.132.0->-r requirements.txt (line 7)) (1.0.1)\n",
      "Requirement already satisfied: tblib<4,>=1.7.0 in /Users/sheilamcgovern/anaconda3/envs/nlp-dev/lib/python3.11/site-packages (from sagemaker>=2.132.0->-r requirements.txt (line 7)) (3.1.0)\n",
      "Requirement already satisfied: uvicorn in /Users/sheilamcgovern/anaconda3/envs/nlp-dev/lib/python3.11/site-packages (from sagemaker>=2.132.0->-r requirements.txt (line 7)) (0.35.0)\n",
      "Requirement already satisfied: graphql-core<3.3,>=3.1 in /Users/sheilamcgovern/anaconda3/envs/nlp-dev/lib/python3.11/site-packages (from graphene<4,>=3->sagemaker>=2.132.0->-r requirements.txt (line 7)) (3.2.6)\n",
      "Requirement already satisfied: graphql-relay<3.3,>=3.1 in /Users/sheilamcgovern/anaconda3/envs/nlp-dev/lib/python3.11/site-packages (from graphene<4,>=3->sagemaker>=2.132.0->-r requirements.txt (line 7)) (3.2.0)\n",
      "Requirement already satisfied: zipp>=0.5 in /Users/sheilamcgovern/anaconda3/envs/nlp-dev/lib/python3.11/site-packages (from importlib-metadata<7.0,>=1.4.0->sagemaker>=2.132.0->-r requirements.txt (line 7)) (3.23.0)\n",
      "Requirement already satisfied: antlr4-python3-runtime==4.9.* in /Users/sheilamcgovern/anaconda3/envs/nlp-dev/lib/python3.11/site-packages (from omegaconf<3,>=2.2->sagemaker>=2.132.0->-r requirements.txt (line 7)) (4.9.3)\n",
      "Requirement already satisfied: pydantic<3.0.0,>=2.0.0 in /Users/sheilamcgovern/anaconda3/envs/nlp-dev/lib/python3.11/site-packages (from sagemaker-core<2.0.0,>=1.0.17->sagemaker>=2.132.0->-r requirements.txt (line 7)) (2.11.7)\n",
      "Requirement already satisfied: rich<15.0.0,>=13.0.0 in /Users/sheilamcgovern/anaconda3/envs/nlp-dev/lib/python3.11/site-packages (from sagemaker-core<2.0.0,>=1.0.17->sagemaker>=2.132.0->-r requirements.txt (line 7)) (13.9.4)\n",
      "Requirement already satisfied: mock<5.0,>4.0 in /Users/sheilamcgovern/anaconda3/envs/nlp-dev/lib/python3.11/site-packages (from sagemaker-core<2.0.0,>=1.0.17->sagemaker>=2.132.0->-r requirements.txt (line 7)) (4.0.3)\n",
      "Requirement already satisfied: jsonschema-specifications>=2023.03.6 in /Users/sheilamcgovern/anaconda3/envs/nlp-dev/lib/python3.11/site-packages (from jsonschema->sagemaker>=2.132.0->-r requirements.txt (line 7)) (2025.4.1)\n",
      "Requirement already satisfied: referencing>=0.28.4 in /Users/sheilamcgovern/anaconda3/envs/nlp-dev/lib/python3.11/site-packages (from jsonschema->sagemaker>=2.132.0->-r requirements.txt (line 7)) (0.36.2)\n",
      "Requirement already satisfied: rpds-py>=0.7.1 in /Users/sheilamcgovern/anaconda3/envs/nlp-dev/lib/python3.11/site-packages (from jsonschema->sagemaker>=2.132.0->-r requirements.txt (line 7)) (0.25.1)\n",
      "Requirement already satisfied: annotated-types>=0.6.0 in /Users/sheilamcgovern/anaconda3/envs/nlp-dev/lib/python3.11/site-packages (from pydantic<3.0.0,>=2.0.0->sagemaker-core<2.0.0,>=1.0.17->sagemaker>=2.132.0->-r requirements.txt (line 7)) (0.7.0)\n",
      "Requirement already satisfied: pydantic-core==2.33.2 in /Users/sheilamcgovern/anaconda3/envs/nlp-dev/lib/python3.11/site-packages (from pydantic<3.0.0,>=2.0.0->sagemaker-core<2.0.0,>=1.0.17->sagemaker>=2.132.0->-r requirements.txt (line 7)) (2.33.2)\n",
      "Requirement already satisfied: typing-inspection>=0.4.0 in /Users/sheilamcgovern/anaconda3/envs/nlp-dev/lib/python3.11/site-packages (from pydantic<3.0.0,>=2.0.0->sagemaker-core<2.0.0,>=1.0.17->sagemaker>=2.132.0->-r requirements.txt (line 7)) (0.4.1)\n",
      "Requirement already satisfied: markdown-it-py>=2.2.0 in /Users/sheilamcgovern/anaconda3/envs/nlp-dev/lib/python3.11/site-packages (from rich<15.0.0,>=13.0.0->sagemaker-core<2.0.0,>=1.0.17->sagemaker>=2.132.0->-r requirements.txt (line 7)) (3.0.0)\n",
      "Requirement already satisfied: pygments<3.0.0,>=2.13.0 in /Users/sheilamcgovern/anaconda3/envs/nlp-dev/lib/python3.11/site-packages (from rich<15.0.0,>=13.0.0->sagemaker-core<2.0.0,>=1.0.17->sagemaker>=2.132.0->-r requirements.txt (line 7)) (2.19.1)\n",
      "Requirement already satisfied: mdurl~=0.1 in /Users/sheilamcgovern/anaconda3/envs/nlp-dev/lib/python3.11/site-packages (from markdown-it-py>=2.2.0->rich<15.0.0,>=13.0.0->sagemaker-core<2.0.0,>=1.0.17->sagemaker>=2.132.0->-r requirements.txt (line 7)) (0.1.2)\n",
      "Requirement already satisfied: mpmath<1.4,>=1.1.0 in /Users/sheilamcgovern/anaconda3/envs/nlp-dev/lib/python3.11/site-packages (from sympy>=1.13.3->torch->-r requirements.txt (line 2)) (1.3.0)\n",
      "Requirement already satisfied: charset_normalizer<4,>=2 in /Users/sheilamcgovern/anaconda3/envs/nlp-dev/lib/python3.11/site-packages (from requests->transformers->-r requirements.txt (line 1)) (3.4.2)\n",
      "Requirement already satisfied: idna<4,>=2.5 in /Users/sheilamcgovern/anaconda3/envs/nlp-dev/lib/python3.11/site-packages (from requests->transformers->-r requirements.txt (line 1)) (3.10)\n",
      "Requirement already satisfied: certifi>=2017.4.17 in /Users/sheilamcgovern/anaconda3/envs/nlp-dev/lib/python3.11/site-packages (from requests->transformers->-r requirements.txt (line 1)) (2025.6.15)\n",
      "Requirement already satisfied: starlette<0.47.0,>=0.40.0 in /Users/sheilamcgovern/anaconda3/envs/nlp-dev/lib/python3.11/site-packages (from fastapi->sagemaker>=2.132.0->-r requirements.txt (line 7)) (0.46.2)\n",
      "Requirement already satisfied: anyio<5,>=3.6.2 in /Users/sheilamcgovern/anaconda3/envs/nlp-dev/lib/python3.11/site-packages (from starlette<0.47.0,>=0.40.0->fastapi->sagemaker>=2.132.0->-r requirements.txt (line 7)) (4.9.0)\n",
      "Requirement already satisfied: sniffio>=1.1 in /Users/sheilamcgovern/anaconda3/envs/nlp-dev/lib/python3.11/site-packages (from anyio<5,>=3.6.2->starlette<0.47.0,>=0.40.0->fastapi->sagemaker>=2.132.0->-r requirements.txt (line 7)) (1.3.1)\n",
      "Requirement already satisfied: MarkupSafe>=2.0 in /Users/sheilamcgovern/anaconda3/envs/nlp-dev/lib/python3.11/site-packages (from jinja2->torch->-r requirements.txt (line 2)) (3.0.2)\n",
      "Requirement already satisfied: ppft>=1.7.7 in /Users/sheilamcgovern/anaconda3/envs/nlp-dev/lib/python3.11/site-packages (from pathos->sagemaker>=2.132.0->-r requirements.txt (line 7)) (1.7.7)\n",
      "Requirement already satisfied: dill>=0.4.0 in /Users/sheilamcgovern/anaconda3/envs/nlp-dev/lib/python3.11/site-packages (from pathos->sagemaker>=2.132.0->-r requirements.txt (line 7)) (0.4.0)\n",
      "Requirement already satisfied: pox>=0.3.6 in /Users/sheilamcgovern/anaconda3/envs/nlp-dev/lib/python3.11/site-packages (from pathos->sagemaker>=2.132.0->-r requirements.txt (line 7)) (0.3.6)\n",
      "Requirement already satisfied: multiprocess>=0.70.18 in /Users/sheilamcgovern/anaconda3/envs/nlp-dev/lib/python3.11/site-packages (from pathos->sagemaker>=2.132.0->-r requirements.txt (line 7)) (0.70.18)\n",
      "Requirement already satisfied: click>=7.0 in /Users/sheilamcgovern/anaconda3/envs/nlp-dev/lib/python3.11/site-packages (from uvicorn->sagemaker>=2.132.0->-r requirements.txt (line 7)) (8.2.1)\n",
      "Requirement already satisfied: h11>=0.8 in /Users/sheilamcgovern/anaconda3/envs/nlp-dev/lib/python3.11/site-packages (from uvicorn->sagemaker>=2.132.0->-r requirements.txt (line 7)) (0.16.0)\n"
     ]
    }
   ],
   "source": [
    "import os\n",
    "\n",
    "# Move up if inside notebooks/ folder\n",
    "if os.path.basename(os.getcwd()) == \"notebooks\":\n",
    "    os.chdir(\"..\")\n",
    "\n",
    "print(\"Installing dependencies from:\", os.getcwd())\n",
    "!pip install -r requirements.txt\n"
   ]
  },
  {
   "cell_type": "code",
   "execution_count": 2,
   "id": "875be86d-51e5-4d08-93e7-3d958cd52f66",
   "metadata": {},
   "outputs": [
    {
     "name": "stdout",
     "output_type": "stream",
     "text": [
      "sagemaker.config INFO - Not applying SDK defaults from location: /Library/Application Support/sagemaker/config.yaml\n",
      "sagemaker.config INFO - Not applying SDK defaults from location: /Users/sheilamcgovern/Library/Application Support/sagemaker/config.yaml\n",
      "✅ Running locally, loaded .env\n",
      "Region: us-east-1\n"
     ]
    }
   ],
   "source": [
    "import pathlib\n",
    "from dotenv import load_dotenv\n",
    "import boto3\n",
    "import sagemaker\n",
    "\n",
    "# Detect environment: Studio has this env var set\n",
    "in_studio = \"SAGEMAKER_JOB_NAME\" in os.environ or \"SAGEMAKER_REGION\" in os.environ\n",
    "\n",
    "if in_studio:\n",
    "    region = sagemaker.Session().boto_region_name\n",
    "    role = sagemaker.get_execution_role()\n",
    "    creds = {}\n",
    "    print(\"✅ Running in SageMaker Studio\")\n",
    "else:\n",
    "    load_dotenv(dotenv_path=\".env\", override=True)\n",
    "    region = os.getenv(\"AWS_REGION\")\n",
    "    role = None  # not used locally\n",
    "    creds = {\n",
    "        \"aws_access_key_id\": os.getenv(\"AWS_ACCESS_KEY_ID\"),\n",
    "        \"aws_secret_access_key\": os.getenv(\"AWS_SECRET_ACCESS_KEY\")\n",
    "    }\n",
    "    print(\"✅ Running locally, loaded .env\")\n",
    "\n",
    "print(\"Region:\", region)\n",
    "\n",
    "# Setup boto3 clients\n",
    "runtime = boto3.client(\"sagemaker-runtime\", region_name=region, **creds)\n",
    "sm_client = boto3.client(\"sagemaker\", region_name=region, **creds)\n",
    "\n",
    "\n"
   ]
  },
  {
   "cell_type": "code",
   "execution_count": 3,
   "id": "1aba9ddf-1cbc-42ff-afe1-43b48637ed4f",
   "metadata": {},
   "outputs": [
    {
     "name": "stdout",
     "output_type": "stream",
     "text": [
      "✅ Hugging Face config ready\n"
     ]
    }
   ],
   "source": [
    "hub = {\n",
    "    \"HF_MODEL_ID\": \"distilbert-base-uncased-finetuned-sst-2-english\",\n",
    "    \"HF_TASK\": \"text-classification\"\n",
    "}\n",
    "\n",
    "print(\"✅ Hugging Face config ready\")\n"
   ]
  },
  {
   "cell_type": "code",
   "execution_count": null,
   "id": "bc81206f-f1be-4da8-91eb-3ec62b4fe78b",
   "metadata": {},
   "outputs": [],
   "source": [
    "# --- Deploy (Studio only) ---\n",
    "if in_studio:\n",
    "    from sagemaker.huggingface import HuggingFaceModel\n",
    "    import time\n",
    "\n",
    "    endpoint_name = f\"huggingface-sentiment-{int(time.time())}\"\n",
    "\n",
    "    huggingface_model = HuggingFaceModel(\n",
    "        transformers_version=\"4.26\",\n",
    "        pytorch_version=\"1.13\",\n",
    "        py_version=\"py39\",\n",
    "        env=hub,\n",
    "        role=role\n",
    "    )\n",
    "\n",
    "    predictor = huggingface_model.deploy(\n",
    "        initial_instance_count=1,\n",
    "        instance_type=\"ml.m5.large\",\n",
    "        endpoint_name=endpoint_name\n",
    "    )\n",
    "\n",
    "    print(\"✅ Endpoint deployed:\", endpoint_name)\n",
    "else:\n",
    "    print(\"⚠️ Skipping deployment (local mode)\")\n",
    "\n",
    "\n",
    "\n",
    "\n"
   ]
  },
  {
   "cell_type": "code",
   "execution_count": 14,
   "id": "8a2f6257-072e-441e-a412-4b1535a5772e",
   "metadata": {},
   "outputs": [
    {
     "name": "stdout",
     "output_type": "stream",
     "text": [
      "huggingface-sentiment InService\n"
     ]
    }
   ],
   "source": [
    "response = sm_client.list_endpoints(SortBy=\"CreationTime\", SortOrder=\"Descending\", MaxResults=5)\n",
    "for ep in response[\"Endpoints\"]:\n",
    "    print(ep[\"EndpointName\"], ep[\"EndpointStatus\"])\n",
    "\n"
   ]
  },
  {
   "cell_type": "code",
   "execution_count": 16,
   "id": "9b769b95-fecc-4bca-bd0a-2588a84d0d37",
   "metadata": {},
   "outputs": [
    {
     "name": "stdout",
     "output_type": "stream",
     "text": [
      "Prediction (Local): [{'label': 'NEGATIVE', 'score': 0.9998169541358948}]\n"
     ]
    }
   ],
   "source": [
    "import json\n",
    "\n",
    "if in_studio:\n",
    "    # Studio mode: safe to use predictor object\n",
    "    result = predictor.predict({\"inputs\": \"This SageMaker setup is fantastic!\"})\n",
    "    print(\"Prediction (Studio):\", result)\n",
    "else:\n",
    "    # Local mode: use runtime.invoke_endpoint\n",
    "    endpoint_name = os.getenv(\"SAGEMAKER_ENDPOINT_NAME\")\n",
    "    if not endpoint_name:\n",
    "        # fallback: pick the latest InService endpoint\n",
    "        endpoints = sm_client.list_endpoints(SortBy=\"CreationTime\", SortOrder=\"Descending\", MaxResults=1)\n",
    "        if endpoints[\"Endpoints\"]:\n",
    "            endpoint_name = endpoints[\"Endpoints\"][0][\"EndpointName\"]\n",
    "            print(f\"⚠️ Using latest endpoint: {endpoint_name}\")\n",
    "        else:\n",
    "            raise ValueError(\"No SageMaker endpoint available!\")\n",
    "\n",
    "    response = runtime.invoke_endpoint(\n",
    "        EndpointName=endpoint_name,\n",
    "        ContentType=\"application/json\",\n",
    "        Body=json.dumps({\"inputs\": \"This SageMaker setup is awful!\"})\n",
    "    )\n",
    "\n",
    "    print(\"Prediction (Local):\", json.loads(response['Body'].read().decode()))\n",
    "\n",
    "\n"
   ]
  },
  {
   "cell_type": "code",
   "execution_count": null,
   "id": "bd92ebf7-443e-48f8-9a99-b2fe97a6de49",
   "metadata": {},
   "outputs": [],
   "source": []
  }
 ],
 "metadata": {
  "kernelspec": {
   "display_name": "Python 3 (ipykernel)",
   "language": "python",
   "name": "python3"
  },
  "language_info": {
   "codemirror_mode": {
    "name": "ipython",
    "version": 3
   },
   "file_extension": ".py",
   "mimetype": "text/x-python",
   "name": "python",
   "nbconvert_exporter": "python",
   "pygments_lexer": "ipython3",
   "version": "3.11.13"
  }
 },
 "nbformat": 4,
 "nbformat_minor": 5
}
